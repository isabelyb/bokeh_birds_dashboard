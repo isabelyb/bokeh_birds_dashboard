{
 "cells": [
  {
   "cell_type": "code",
   "execution_count": 343,
   "metadata": {},
   "outputs": [],
   "source": [
    "#import numpy as np\n",
    "import pandas as pd\n",
    "import pandas_bokeh;"
   ]
  },
  {
   "cell_type": "code",
   "execution_count": 344,
   "metadata": {},
   "outputs": [
    {
     "data": {
      "text/html": [
       "\n",
       "    <div class=\"bk-root\">\n",
       "        <a href=\"https://bokeh.org\" target=\"_blank\" class=\"bk-logo bk-logo-small bk-logo-notebook\"></a>\n",
       "        <span id=\"17457\">Loading BokehJS ...</span>\n",
       "    </div>"
      ]
     },
     "metadata": {},
     "output_type": "display_data"
    },
    {
     "data": {
      "application/javascript": "\n(function(root) {\n  function now() {\n    return new Date();\n  }\n\n  const force = true;\n\n  if (typeof root._bokeh_onload_callbacks === \"undefined\" || force === true) {\n    root._bokeh_onload_callbacks = [];\n    root._bokeh_is_loading = undefined;\n  }\n\n  const JS_MIME_TYPE = 'application/javascript';\n  const HTML_MIME_TYPE = 'text/html';\n  const EXEC_MIME_TYPE = 'application/vnd.bokehjs_exec.v0+json';\n  const CLASS_NAME = 'output_bokeh rendered_html';\n\n  /**\n   * Render data to the DOM node\n   */\n  function render(props, node) {\n    const script = document.createElement(\"script\");\n    node.appendChild(script);\n  }\n\n  /**\n   * Handle when an output is cleared or removed\n   */\n  function handleClearOutput(event, handle) {\n    const cell = handle.cell;\n\n    const id = cell.output_area._bokeh_element_id;\n    const server_id = cell.output_area._bokeh_server_id;\n    // Clean up Bokeh references\n    if (id != null && id in Bokeh.index) {\n      Bokeh.index[id].model.document.clear();\n      delete Bokeh.index[id];\n    }\n\n    if (server_id !== undefined) {\n      // Clean up Bokeh references\n      const cmd_clean = \"from bokeh.io.state import curstate; print(curstate().uuid_to_server['\" + server_id + \"'].get_sessions()[0].document.roots[0]._id)\";\n      cell.notebook.kernel.execute(cmd_clean, {\n        iopub: {\n          output: function(msg) {\n            const id = msg.content.text.trim();\n            if (id in Bokeh.index) {\n              Bokeh.index[id].model.document.clear();\n              delete Bokeh.index[id];\n            }\n          }\n        }\n      });\n      // Destroy server and session\n      const cmd_destroy = \"import bokeh.io.notebook as ion; ion.destroy_server('\" + server_id + \"')\";\n      cell.notebook.kernel.execute(cmd_destroy);\n    }\n  }\n\n  /**\n   * Handle when a new output is added\n   */\n  function handleAddOutput(event, handle) {\n    const output_area = handle.output_area;\n    const output = handle.output;\n\n    // limit handleAddOutput to display_data with EXEC_MIME_TYPE content only\n    if ((output.output_type != \"display_data\") || (!Object.prototype.hasOwnProperty.call(output.data, EXEC_MIME_TYPE))) {\n      return\n    }\n\n    const toinsert = output_area.element.find(\".\" + CLASS_NAME.split(' ')[0]);\n\n    if (output.metadata[EXEC_MIME_TYPE][\"id\"] !== undefined) {\n      toinsert[toinsert.length - 1].firstChild.textContent = output.data[JS_MIME_TYPE];\n      // store reference to embed id on output_area\n      output_area._bokeh_element_id = output.metadata[EXEC_MIME_TYPE][\"id\"];\n    }\n    if (output.metadata[EXEC_MIME_TYPE][\"server_id\"] !== undefined) {\n      const bk_div = document.createElement(\"div\");\n      bk_div.innerHTML = output.data[HTML_MIME_TYPE];\n      const script_attrs = bk_div.children[0].attributes;\n      for (let i = 0; i < script_attrs.length; i++) {\n        toinsert[toinsert.length - 1].firstChild.setAttribute(script_attrs[i].name, script_attrs[i].value);\n        toinsert[toinsert.length - 1].firstChild.textContent = bk_div.children[0].textContent\n      }\n      // store reference to server id on output_area\n      output_area._bokeh_server_id = output.metadata[EXEC_MIME_TYPE][\"server_id\"];\n    }\n  }\n\n  function register_renderer(events, OutputArea) {\n\n    function append_mime(data, metadata, element) {\n      // create a DOM node to render to\n      const toinsert = this.create_output_subarea(\n        metadata,\n        CLASS_NAME,\n        EXEC_MIME_TYPE\n      );\n      this.keyboard_manager.register_events(toinsert);\n      // Render to node\n      const props = {data: data, metadata: metadata[EXEC_MIME_TYPE]};\n      render(props, toinsert[toinsert.length - 1]);\n      element.append(toinsert);\n      return toinsert\n    }\n\n    /* Handle when an output is cleared or removed */\n    events.on('clear_output.CodeCell', handleClearOutput);\n    events.on('delete.Cell', handleClearOutput);\n\n    /* Handle when a new output is added */\n    events.on('output_added.OutputArea', handleAddOutput);\n\n    /**\n     * Register the mime type and append_mime function with output_area\n     */\n    OutputArea.prototype.register_mime_type(EXEC_MIME_TYPE, append_mime, {\n      /* Is output safe? */\n      safe: true,\n      /* Index of renderer in `output_area.display_order` */\n      index: 0\n    });\n  }\n\n  // register the mime type if in Jupyter Notebook environment and previously unregistered\n  if (root.Jupyter !== undefined) {\n    const events = require('base/js/events');\n    const OutputArea = require('notebook/js/outputarea').OutputArea;\n\n    if (OutputArea.prototype.mime_types().indexOf(EXEC_MIME_TYPE) == -1) {\n      register_renderer(events, OutputArea);\n    }\n  }\n\n  \n  if (typeof (root._bokeh_timeout) === \"undefined\" || force === true) {\n    root._bokeh_timeout = Date.now() + 5000;\n    root._bokeh_failed_load = false;\n  }\n\n  const NB_LOAD_WARNING = {'data': {'text/html':\n     \"<div style='background-color: #fdd'>\\n\"+\n     \"<p>\\n\"+\n     \"BokehJS does not appear to have successfully loaded. If loading BokehJS from CDN, this \\n\"+\n     \"may be due to a slow or bad network connection. Possible fixes:\\n\"+\n     \"</p>\\n\"+\n     \"<ul>\\n\"+\n     \"<li>re-rerun `output_notebook()` to attempt to load from CDN again, or</li>\\n\"+\n     \"<li>use INLINE resources instead, as so:</li>\\n\"+\n     \"</ul>\\n\"+\n     \"<code>\\n\"+\n     \"from bokeh.resources import INLINE\\n\"+\n     \"output_notebook(resources=INLINE)\\n\"+\n     \"</code>\\n\"+\n     \"</div>\"}};\n\n  function display_loaded() {\n    const el = document.getElementById(\"17457\");\n    if (el != null) {\n      el.textContent = \"BokehJS is loading...\";\n    }\n    if (root.Bokeh !== undefined) {\n      if (el != null) {\n        el.textContent = \"BokehJS \" + root.Bokeh.version + \" successfully loaded.\";\n      }\n    } else if (Date.now() < root._bokeh_timeout) {\n      setTimeout(display_loaded, 100)\n    }\n  }\n\n\n  function run_callbacks() {\n    try {\n      root._bokeh_onload_callbacks.forEach(function(callback) {\n        if (callback != null)\n          callback();\n      });\n    } finally {\n      delete root._bokeh_onload_callbacks\n    }\n    console.debug(\"Bokeh: all callbacks have finished\");\n  }\n\n  function load_libs(css_urls, js_urls, callback) {\n    if (css_urls == null) css_urls = [];\n    if (js_urls == null) js_urls = [];\n\n    root._bokeh_onload_callbacks.push(callback);\n    if (root._bokeh_is_loading > 0) {\n      console.debug(\"Bokeh: BokehJS is being loaded, scheduling callback at\", now());\n      return null;\n    }\n    if (js_urls == null || js_urls.length === 0) {\n      run_callbacks();\n      return null;\n    }\n    console.debug(\"Bokeh: BokehJS not loaded, scheduling load and callback at\", now());\n    root._bokeh_is_loading = css_urls.length + js_urls.length;\n\n    function on_load() {\n      root._bokeh_is_loading--;\n      if (root._bokeh_is_loading === 0) {\n        console.debug(\"Bokeh: all BokehJS libraries/stylesheets loaded\");\n        run_callbacks()\n      }\n    }\n\n    function on_error(url) {\n      console.error(\"failed to load \" + url);\n    }\n\n    for (let i = 0; i < css_urls.length; i++) {\n      const url = css_urls[i];\n      const element = document.createElement(\"link\");\n      element.onload = on_load;\n      element.onerror = on_error.bind(null, url);\n      element.rel = \"stylesheet\";\n      element.type = \"text/css\";\n      element.href = url;\n      console.debug(\"Bokeh: injecting link tag for BokehJS stylesheet: \", url);\n      document.body.appendChild(element);\n    }\n\n    for (let i = 0; i < js_urls.length; i++) {\n      const url = js_urls[i];\n      const element = document.createElement('script');\n      element.onload = on_load;\n      element.onerror = on_error.bind(null, url);\n      element.async = false;\n      element.src = url;\n      console.debug(\"Bokeh: injecting script tag for BokehJS library: \", url);\n      document.head.appendChild(element);\n    }\n  };\n\n  function inject_raw_css(css) {\n    const element = document.createElement(\"style\");\n    element.appendChild(document.createTextNode(css));\n    document.body.appendChild(element);\n  }\n\n  \n  const js_urls = [\"https://cdn.bokeh.org/bokeh/release/bokeh-2.4.1.min.js\", \"https://cdn.bokeh.org/bokeh/release/bokeh-gl-2.4.1.min.js\", \"https://cdn.bokeh.org/bokeh/release/bokeh-widgets-2.4.1.min.js\", \"https://cdn.bokeh.org/bokeh/release/bokeh-tables-2.4.1.min.js\", \"https://cdn.bokeh.org/bokeh/release/bokeh-mathjax-2.4.1.min.js\"];\n  const css_urls = [];\n  \n\n  const inline_js = [\n    function(Bokeh) {\n      Bokeh.set_log_level(\"info\");\n    },\n    function(Bokeh) {\n    \n    \n    }\n  ];\n\n  function run_inline_js() {\n    \n    if (root.Bokeh !== undefined || force === true) {\n      \n    for (let i = 0; i < inline_js.length; i++) {\n      inline_js[i].call(root, root.Bokeh);\n    }\n    if (force === true) {\n        display_loaded();\n      }} else if (Date.now() < root._bokeh_timeout) {\n      setTimeout(run_inline_js, 100);\n    } else if (!root._bokeh_failed_load) {\n      console.log(\"Bokeh: BokehJS failed to load within specified timeout.\");\n      root._bokeh_failed_load = true;\n    } else if (force !== true) {\n      const cell = $(document.getElementById(\"17457\")).parents('.cell').data().cell;\n      cell.output_area.append_execute_result(NB_LOAD_WARNING)\n    }\n\n  }\n\n  if (root._bokeh_is_loading === 0) {\n    console.debug(\"Bokeh: BokehJS loaded, going straight to plotting\");\n    run_inline_js();\n  } else {\n    load_libs(css_urls, js_urls, function() {\n      console.debug(\"Bokeh: BokehJS plotting callback run at\", now());\n      run_inline_js();\n    });\n  }\n}(window));",
      "application/vnd.bokehjs_load.v0+json": ""
     },
     "metadata": {},
     "output_type": "display_data"
    }
   ],
   "source": [
    "# Embedding plots in Jupyter/Colab Notebook\n",
    "pandas_bokeh.output_notebook()"
   ]
  },
  {
   "cell_type": "code",
   "execution_count": 345,
   "metadata": {},
   "outputs": [],
   "source": [
    "# for exporting plots as HTML\n",
    "# pandas_bokeh.output_file(filename='dashboard',title='Birds Dashboard')"
   ]
  },
  {
   "cell_type": "code",
   "execution_count": 346,
   "metadata": {},
   "outputs": [],
   "source": [
    "sheet_id = '1dENiPTJtdqOiU9Oiwxen2UU2K4HP1jOR_MyGcjQP81k'\n",
    "sheet_name = 'registro'\n",
    "url = f'https://docs.google.com/spreadsheets/d/{sheet_id}/gviz/tq?tqx=out:csv&sheet={sheet_name}'"
   ]
  },
  {
   "cell_type": "code",
   "execution_count": 347,
   "metadata": {},
   "outputs": [],
   "source": [
    "df = pd.read_csv(url, usecols=[0,1,2,3,4])\n",
    "#df['Costo($)'] = df['Costo($)'].replace(np.nan, 0)"
   ]
  },
  {
   "cell_type": "code",
   "execution_count": 348,
   "metadata": {},
   "outputs": [
    {
     "data": {
      "text/plain": [
       "Index(['Fecha', 'Hora', 'Descripción', 'Cantidad(g)', 'Costo($)'], dtype='object')"
      ]
     },
     "execution_count": 348,
     "metadata": {},
     "output_type": "execute_result"
    }
   ],
   "source": [
    "df.columns"
   ]
  },
  {
   "cell_type": "code",
   "execution_count": 349,
   "metadata": {},
   "outputs": [
    {
     "data": {
      "text/plain": [
       "(399, 5)"
      ]
     },
     "execution_count": 349,
     "metadata": {},
     "output_type": "execute_result"
    }
   ],
   "source": [
    "df.shape"
   ]
  },
  {
   "cell_type": "code",
   "execution_count": 350,
   "metadata": {},
   "outputs": [
    {
     "name": "stdout",
     "output_type": "stream",
     "text": [
      "<class 'pandas.core.frame.DataFrame'>\n",
      "RangeIndex: 399 entries, 0 to 398\n",
      "Data columns (total 5 columns):\n",
      " #   Column       Non-Null Count  Dtype  \n",
      "---  ------       --------------  -----  \n",
      " 0   Fecha        187 non-null    object \n",
      " 1   Hora         187 non-null    object \n",
      " 2   Descripción  187 non-null    object \n",
      " 3   Cantidad(g)  187 non-null    float64\n",
      " 4   Costo($)     399 non-null    float64\n",
      "dtypes: float64(2), object(3)\n",
      "memory usage: 15.7+ KB\n"
     ]
    }
   ],
   "source": [
    "df.info()"
   ]
  },
  {
   "cell_type": "code",
   "execution_count": 351,
   "metadata": {},
   "outputs": [],
   "source": [
    "\n",
    "df['Fecha'] = pd.to_datetime(df['Fecha'])\n",
    "df['Hora'] = pd.to_datetime(df['Hora'])\n",
    "df['Month'] = df['Fecha'].dt.month"
   ]
  },
  {
   "cell_type": "code",
   "execution_count": 352,
   "metadata": {},
   "outputs": [],
   "source": [
    "by_month = df.groupby(['Month']).sum()\n",
    "by_month = by_month.rename(index={\n",
    "    1.0:'Jan', 2.0:'Feb', 3.0:'Mar', 4.0:'Apr', 5.0:'May', 6.0:'Jun',\n",
    "    7.0:'Jun', 8.0:'Ago', 9.0:'Sep', 10.0:'Oct', 11.0:'Nov', 12.0:'Dic'})"
   ]
  },
  {
   "cell_type": "code",
   "execution_count": 354,
   "metadata": {},
   "outputs": [
    {
     "data": {
      "text/html": [
       "\n",
       "\n",
       "\n",
       "\n",
       "\n",
       "\n",
       "  <div class=\"bk-root\" id=\"59e6b1ce-2e0c-4f1e-9873-a1ee87dd9f70\" data-root-id=\"17593\"></div>\n"
      ]
     },
     "metadata": {},
     "output_type": "display_data"
    },
    {
     "data": {
      "application/javascript": "(function(root) {\n  function embed_document(root) {\n    \n  const docs_json = {\"abed70c8-2c7b-4032-a2ee-434031495671\":{\"defs\":[],\"roots\":{\"references\":[{\"attributes\":{\"below\":[{\"id\":\"17604\"}],\"center\":[{\"id\":\"17607\"},{\"id\":\"17611\"},{\"id\":\"17644\"}],\"height\":400,\"left\":[{\"id\":\"17608\"}],\"output_backend\":\"webgl\",\"renderers\":[{\"id\":\"17633\"},{\"id\":\"17651\"}],\"sizing_mode\":\"fixed\",\"title\":{\"id\":\"17594\"},\"toolbar\":{\"id\":\"17619\"},\"x_range\":{\"id\":\"17596\"},\"x_scale\":{\"id\":\"17600\"},\"y_range\":{\"id\":\"17598\"},\"y_scale\":{\"id\":\"17602\"}},\"id\":\"17593\",\"subtype\":\"Figure\",\"type\":\"Plot\"},{\"attributes\":{\"line_alpha\":0.2,\"line_color\":\"#d01c8b\",\"line_width\":2,\"x\":{\"field\":\"__x__values\"},\"y\":{\"field\":\"Cantidad(g)\"}},\"id\":\"17632\",\"type\":\"Line\"},{\"attributes\":{},\"id\":\"17642\",\"type\":\"Selection\"},{\"attributes\":{},\"id\":\"17609\",\"type\":\"BasicTicker\"},{\"attributes\":{\"axis_label\":\"Cantidad(g)\",\"coordinates\":null,\"formatter\":{\"id\":\"17637\"},\"group\":null,\"major_label_policy\":{\"id\":\"17638\"},\"ticker\":{\"id\":\"17609\"}},\"id\":\"17608\",\"type\":\"LinearAxis\"},{\"attributes\":{\"axis_label\":\"Month\",\"coordinates\":null,\"formatter\":{\"id\":\"17626\"},\"group\":null,\"major_label_policy\":{\"id\":\"17640\"},\"ticker\":{\"id\":\"17666\"}},\"id\":\"17604\",\"type\":\"LinearAxis\"},{\"attributes\":{\"coordinates\":null,\"data_source\":{\"id\":\"17646\"},\"glyph\":{\"id\":\"17648\"},\"group\":null,\"hover_glyph\":null,\"muted_glyph\":{\"id\":\"17650\"},\"nonselection_glyph\":{\"id\":\"17649\"},\"view\":{\"id\":\"17652\"}},\"id\":\"17651\",\"type\":\"GlyphRenderer\"},{\"attributes\":{\"axis\":{\"id\":\"17608\"},\"coordinates\":null,\"dimension\":1,\"group\":null,\"ticker\":null},\"id\":\"17611\",\"type\":\"Grid\"},{\"attributes\":{},\"id\":\"17598\",\"type\":\"DataRange1d\"},{\"attributes\":{\"coordinates\":null,\"group\":null},\"id\":\"17594\",\"type\":\"Title\"},{\"attributes\":{},\"id\":\"17638\",\"type\":\"AllLabels\"},{\"attributes\":{},\"id\":\"17596\",\"type\":\"DataRange1d\"},{\"attributes\":{\"label\":{\"value\":\" Cantidad(g)\"},\"renderers\":[{\"id\":\"17633\"},{\"id\":\"17651\"}]},\"id\":\"17645\",\"type\":\"LegendItem\"},{\"attributes\":{\"axis\":{\"id\":\"17604\"},\"coordinates\":null,\"group\":null,\"ticker\":null},\"id\":\"17607\",\"type\":\"Grid\"},{\"attributes\":{},\"id\":\"17662\",\"type\":\"Selection\"},{\"attributes\":{\"source\":{\"id\":\"17646\"}},\"id\":\"17652\",\"type\":\"CDSView\"},{\"attributes\":{\"overlay\":{\"id\":\"17618\"}},\"id\":\"17614\",\"type\":\"BoxZoomTool\"},{\"attributes\":{},\"id\":\"17612\",\"type\":\"PanTool\"},{\"attributes\":{},\"id\":\"17600\",\"type\":\"LinearScale\"},{\"attributes\":{\"active_scroll\":{\"id\":\"17613\"},\"tools\":[{\"id\":\"17612\"},{\"id\":\"17613\"},{\"id\":\"17614\"},{\"id\":\"17615\"},{\"id\":\"17616\"},{\"id\":\"17617\"},{\"id\":\"17664\"}]},\"id\":\"17619\",\"type\":\"Toolbar\"},{\"attributes\":{},\"id\":\"17617\",\"type\":\"HelpTool\"},{\"attributes\":{\"bottom_units\":\"screen\",\"coordinates\":null,\"fill_alpha\":0.5,\"fill_color\":\"lightgrey\",\"group\":null,\"left_units\":\"screen\",\"level\":\"overlay\",\"line_alpha\":1.0,\"line_color\":\"black\",\"line_dash\":[4,4],\"line_width\":2,\"right_units\":\"screen\",\"syncable\":false,\"top_units\":\"screen\"},\"id\":\"17618\",\"type\":\"BoxAnnotation\"},{\"attributes\":{},\"id\":\"17602\",\"type\":\"LinearScale\"},{\"attributes\":{\"data\":{\"Cantidad(g)\":{\"__ndarray__\":\"AAAAAACUsUAAAAAAAPaoQAAAAAAA77lAAAAAAAAwtkAAAAAAAGS+QAAAAAAAu7VAAAAAAABmsUAAAAAAgIjAQAAAAAAALJFA\",\"dtype\":\"float64\",\"order\":\"little\",\"shape\":[9]},\"__x__values\":[0,1,2,3,4,5,6,7,8],\"__x__values_original\":[\"Mar\",\"Apr\",\"May\",\"Jun\",\"Jun\",\"Ago\",\"Sep\",\"Oct\",\"Nov\"]},\"selected\":{\"id\":\"17642\"},\"selection_policy\":{\"id\":\"17641\"}},\"id\":\"17628\",\"type\":\"ColumnDataSource\"},{\"attributes\":{\"click_policy\":\"hide\",\"coordinates\":null,\"group\":null,\"items\":[{\"id\":\"17645\"}]},\"id\":\"17644\",\"type\":\"Legend\"},{\"attributes\":{\"source\":{\"id\":\"17628\"}},\"id\":\"17634\",\"type\":\"CDSView\"},{\"attributes\":{},\"id\":\"17640\",\"type\":\"AllLabels\"},{\"attributes\":{},\"id\":\"17616\",\"type\":\"ResetTool\"},{\"attributes\":{},\"id\":\"17613\",\"type\":\"WheelZoomTool\"},{\"attributes\":{},\"id\":\"17615\",\"type\":\"SaveTool\"},{\"attributes\":{\"fill_alpha\":{\"value\":0.2},\"fill_color\":{\"value\":\"#d01c8b\"},\"hatch_alpha\":{\"value\":0.2},\"hatch_color\":{\"value\":\"#d01c8b\"},\"line_alpha\":{\"value\":0.2},\"line_color\":{\"value\":\"#d01c8b\"},\"size\":{\"value\":5},\"x\":{\"field\":\"__x__values\"},\"y\":{\"field\":\"Cantidad(g)\"}},\"id\":\"17650\",\"type\":\"Scatter\"},{\"attributes\":{\"callback\":null,\"mode\":\"vline\",\"renderers\":[{\"id\":\"17633\"}],\"tooltips\":[[\"Month\",\"@__x__values_original\"],[\"Cantidad(g)\",\"@{Cantidad(g)}\"]]},\"id\":\"17664\",\"type\":\"HoverTool\"},{\"attributes\":{},\"id\":\"17637\",\"type\":\"BasicTickFormatter\"},{\"attributes\":{\"fill_alpha\":{\"value\":0.1},\"fill_color\":{\"value\":\"#d01c8b\"},\"hatch_alpha\":{\"value\":0.1},\"hatch_color\":{\"value\":\"#d01c8b\"},\"line_alpha\":{\"value\":0.1},\"line_color\":{\"value\":\"#d01c8b\"},\"size\":{\"value\":5},\"x\":{\"field\":\"__x__values\"},\"y\":{\"field\":\"Cantidad(g)\"}},\"id\":\"17649\",\"type\":\"Scatter\"},{\"attributes\":{\"ticks\":[0,1,2,3,4,5,6,7,8]},\"id\":\"17666\",\"type\":\"FixedTicker\"},{\"attributes\":{\"coordinates\":null,\"data_source\":{\"id\":\"17628\"},\"glyph\":{\"id\":\"17630\"},\"group\":null,\"hover_glyph\":null,\"muted_glyph\":{\"id\":\"17632\"},\"nonselection_glyph\":{\"id\":\"17631\"},\"view\":{\"id\":\"17634\"}},\"id\":\"17633\",\"type\":\"GlyphRenderer\"},{\"attributes\":{},\"id\":\"17641\",\"type\":\"UnionRenderers\"},{\"attributes\":{\"line_alpha\":0.1,\"line_color\":\"#d01c8b\",\"line_width\":2,\"x\":{\"field\":\"__x__values\"},\"y\":{\"field\":\"Cantidad(g)\"}},\"id\":\"17631\",\"type\":\"Line\"},{\"attributes\":{},\"id\":\"17661\",\"type\":\"UnionRenderers\"},{\"attributes\":{\"line_color\":\"#d01c8b\",\"line_width\":2,\"x\":{\"field\":\"__x__values\"},\"y\":{\"field\":\"Cantidad(g)\"}},\"id\":\"17630\",\"type\":\"Line\"},{\"attributes\":{\"fill_color\":{\"value\":\"#d01c8b\"},\"hatch_color\":{\"value\":\"#d01c8b\"},\"line_color\":{\"value\":\"#d01c8b\"},\"size\":{\"value\":5},\"x\":{\"field\":\"__x__values\"},\"y\":{\"field\":\"Cantidad(g)\"}},\"id\":\"17648\",\"type\":\"Scatter\"},{\"attributes\":{\"code\":\"\\n                                var labels = {0: 'Mar', 1: 'Apr', 2: 'May', 3: 'Jun', 4: 'Jun', 5: 'Ago', 6: 'Sep', 7: 'Oct', 8: 'Nov'};\\n                                return labels[tick];\\n                                \"},\"id\":\"17626\",\"type\":\"FuncTickFormatter\"},{\"attributes\":{\"data\":{\"Cantidad(g)\":{\"__ndarray__\":\"AAAAAACUsUAAAAAAAPaoQAAAAAAA77lAAAAAAAAwtkAAAAAAAGS+QAAAAAAAu7VAAAAAAABmsUAAAAAAgIjAQAAAAAAALJFA\",\"dtype\":\"float64\",\"order\":\"little\",\"shape\":[9]},\"__x__values\":[0,1,2,3,4,5,6,7,8],\"__x__values_original\":[\"Mar\",\"Apr\",\"May\",\"Jun\",\"Jun\",\"Ago\",\"Sep\",\"Oct\",\"Nov\"]},\"selected\":{\"id\":\"17662\"},\"selection_policy\":{\"id\":\"17661\"}},\"id\":\"17646\",\"type\":\"ColumnDataSource\"}],\"root_ids\":[\"17593\"]},\"title\":\"Bokeh Application\",\"version\":\"2.4.1\"}};\n  const render_items = [{\"docid\":\"abed70c8-2c7b-4032-a2ee-434031495671\",\"root_ids\":[\"17593\"],\"roots\":{\"17593\":\"59e6b1ce-2e0c-4f1e-9873-a1ee87dd9f70\"}}];\n  root.Bokeh.embed.embed_items_notebook(docs_json, render_items);\n\n  }\n  if (root.Bokeh !== undefined) {\n    embed_document(root);\n  } else {\n    let attempts = 0;\n    const timer = setInterval(function(root) {\n      if (root.Bokeh !== undefined) {\n        clearInterval(timer);\n        embed_document(root);\n      } else {\n        attempts++;\n        if (attempts > 100) {\n          clearInterval(timer);\n          console.log(\"Bokeh: ERROR: Unable to run BokehJS code because BokehJS library is missing\");\n        }\n      }\n    }, 10, root)\n  }\n})(window);",
      "application/vnd.bokehjs_exec.v0+json": ""
     },
     "metadata": {
      "application/vnd.bokehjs_exec.v0+json": {
       "id": "17593"
      }
     },
     "output_type": "display_data"
    }
   ],
   "source": [
    "line_plot= by_month.plot_bokeh(kind=\"line\",y=\"Cantidad(g)\",color='#d01c8b',plot_data_points=True,show_figure=True)"
   ]
  },
  {
   "cell_type": "code",
   "execution_count": null,
   "metadata": {},
   "outputs": [],
   "source": [
    "#Make Dashboard with Grid Layout: \n",
    "pandas_bokeh.plot_grid([[line_plot ]], width=400)"
   ]
  }
 ],
 "metadata": {
  "interpreter": {
   "hash": "916dbcbb3f70747c44a77c7bcd40155683ae19c65e1c03b4aa3499c5328201f1"
  },
  "kernelspec": {
   "display_name": "Python 3.8.10 64-bit",
   "language": "python",
   "name": "python3"
  },
  "language_info": {
   "codemirror_mode": {
    "name": "ipython",
    "version": 3
   },
   "file_extension": ".py",
   "mimetype": "text/x-python",
   "name": "python",
   "nbconvert_exporter": "python",
   "pygments_lexer": "ipython3",
   "version": "3.8.10"
  },
  "orig_nbformat": 4
 },
 "nbformat": 4,
 "nbformat_minor": 2
}
