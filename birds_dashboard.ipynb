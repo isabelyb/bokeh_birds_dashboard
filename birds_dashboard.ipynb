{
 "cells": [
  {
   "cell_type": "code",
   "execution_count": 217,
   "metadata": {},
   "outputs": [],
   "source": [
    "import numpy as np\n",
    "import pandas as pd\n",
    "import pandas_bokeh;"
   ]
  },
  {
   "cell_type": "code",
   "execution_count": 218,
   "metadata": {},
   "outputs": [
    {
     "data": {
      "text/html": [
       "\n",
       "    <div class=\"bk-root\">\n",
       "        <a href=\"https://bokeh.org\" target=\"_blank\" class=\"bk-logo bk-logo-small bk-logo-notebook\"></a>\n",
       "        <span id=\"3767\">Loading BokehJS ...</span>\n",
       "    </div>"
      ]
     },
     "metadata": {},
     "output_type": "display_data"
    },
    {
     "data": {
      "application/javascript": "\n(function(root) {\n  function now() {\n    return new Date();\n  }\n\n  const force = true;\n\n  if (typeof root._bokeh_onload_callbacks === \"undefined\" || force === true) {\n    root._bokeh_onload_callbacks = [];\n    root._bokeh_is_loading = undefined;\n  }\n\n  const JS_MIME_TYPE = 'application/javascript';\n  const HTML_MIME_TYPE = 'text/html';\n  const EXEC_MIME_TYPE = 'application/vnd.bokehjs_exec.v0+json';\n  const CLASS_NAME = 'output_bokeh rendered_html';\n\n  /**\n   * Render data to the DOM node\n   */\n  function render(props, node) {\n    const script = document.createElement(\"script\");\n    node.appendChild(script);\n  }\n\n  /**\n   * Handle when an output is cleared or removed\n   */\n  function handleClearOutput(event, handle) {\n    const cell = handle.cell;\n\n    const id = cell.output_area._bokeh_element_id;\n    const server_id = cell.output_area._bokeh_server_id;\n    // Clean up Bokeh references\n    if (id != null && id in Bokeh.index) {\n      Bokeh.index[id].model.document.clear();\n      delete Bokeh.index[id];\n    }\n\n    if (server_id !== undefined) {\n      // Clean up Bokeh references\n      const cmd_clean = \"from bokeh.io.state import curstate; print(curstate().uuid_to_server['\" + server_id + \"'].get_sessions()[0].document.roots[0]._id)\";\n      cell.notebook.kernel.execute(cmd_clean, {\n        iopub: {\n          output: function(msg) {\n            const id = msg.content.text.trim();\n            if (id in Bokeh.index) {\n              Bokeh.index[id].model.document.clear();\n              delete Bokeh.index[id];\n            }\n          }\n        }\n      });\n      // Destroy server and session\n      const cmd_destroy = \"import bokeh.io.notebook as ion; ion.destroy_server('\" + server_id + \"')\";\n      cell.notebook.kernel.execute(cmd_destroy);\n    }\n  }\n\n  /**\n   * Handle when a new output is added\n   */\n  function handleAddOutput(event, handle) {\n    const output_area = handle.output_area;\n    const output = handle.output;\n\n    // limit handleAddOutput to display_data with EXEC_MIME_TYPE content only\n    if ((output.output_type != \"display_data\") || (!Object.prototype.hasOwnProperty.call(output.data, EXEC_MIME_TYPE))) {\n      return\n    }\n\n    const toinsert = output_area.element.find(\".\" + CLASS_NAME.split(' ')[0]);\n\n    if (output.metadata[EXEC_MIME_TYPE][\"id\"] !== undefined) {\n      toinsert[toinsert.length - 1].firstChild.textContent = output.data[JS_MIME_TYPE];\n      // store reference to embed id on output_area\n      output_area._bokeh_element_id = output.metadata[EXEC_MIME_TYPE][\"id\"];\n    }\n    if (output.metadata[EXEC_MIME_TYPE][\"server_id\"] !== undefined) {\n      const bk_div = document.createElement(\"div\");\n      bk_div.innerHTML = output.data[HTML_MIME_TYPE];\n      const script_attrs = bk_div.children[0].attributes;\n      for (let i = 0; i < script_attrs.length; i++) {\n        toinsert[toinsert.length - 1].firstChild.setAttribute(script_attrs[i].name, script_attrs[i].value);\n        toinsert[toinsert.length - 1].firstChild.textContent = bk_div.children[0].textContent\n      }\n      // store reference to server id on output_area\n      output_area._bokeh_server_id = output.metadata[EXEC_MIME_TYPE][\"server_id\"];\n    }\n  }\n\n  function register_renderer(events, OutputArea) {\n\n    function append_mime(data, metadata, element) {\n      // create a DOM node to render to\n      const toinsert = this.create_output_subarea(\n        metadata,\n        CLASS_NAME,\n        EXEC_MIME_TYPE\n      );\n      this.keyboard_manager.register_events(toinsert);\n      // Render to node\n      const props = {data: data, metadata: metadata[EXEC_MIME_TYPE]};\n      render(props, toinsert[toinsert.length - 1]);\n      element.append(toinsert);\n      return toinsert\n    }\n\n    /* Handle when an output is cleared or removed */\n    events.on('clear_output.CodeCell', handleClearOutput);\n    events.on('delete.Cell', handleClearOutput);\n\n    /* Handle when a new output is added */\n    events.on('output_added.OutputArea', handleAddOutput);\n\n    /**\n     * Register the mime type and append_mime function with output_area\n     */\n    OutputArea.prototype.register_mime_type(EXEC_MIME_TYPE, append_mime, {\n      /* Is output safe? */\n      safe: true,\n      /* Index of renderer in `output_area.display_order` */\n      index: 0\n    });\n  }\n\n  // register the mime type if in Jupyter Notebook environment and previously unregistered\n  if (root.Jupyter !== undefined) {\n    const events = require('base/js/events');\n    const OutputArea = require('notebook/js/outputarea').OutputArea;\n\n    if (OutputArea.prototype.mime_types().indexOf(EXEC_MIME_TYPE) == -1) {\n      register_renderer(events, OutputArea);\n    }\n  }\n\n  \n  if (typeof (root._bokeh_timeout) === \"undefined\" || force === true) {\n    root._bokeh_timeout = Date.now() + 5000;\n    root._bokeh_failed_load = false;\n  }\n\n  const NB_LOAD_WARNING = {'data': {'text/html':\n     \"<div style='background-color: #fdd'>\\n\"+\n     \"<p>\\n\"+\n     \"BokehJS does not appear to have successfully loaded. If loading BokehJS from CDN, this \\n\"+\n     \"may be due to a slow or bad network connection. Possible fixes:\\n\"+\n     \"</p>\\n\"+\n     \"<ul>\\n\"+\n     \"<li>re-rerun `output_notebook()` to attempt to load from CDN again, or</li>\\n\"+\n     \"<li>use INLINE resources instead, as so:</li>\\n\"+\n     \"</ul>\\n\"+\n     \"<code>\\n\"+\n     \"from bokeh.resources import INLINE\\n\"+\n     \"output_notebook(resources=INLINE)\\n\"+\n     \"</code>\\n\"+\n     \"</div>\"}};\n\n  function display_loaded() {\n    const el = document.getElementById(\"3767\");\n    if (el != null) {\n      el.textContent = \"BokehJS is loading...\";\n    }\n    if (root.Bokeh !== undefined) {\n      if (el != null) {\n        el.textContent = \"BokehJS \" + root.Bokeh.version + \" successfully loaded.\";\n      }\n    } else if (Date.now() < root._bokeh_timeout) {\n      setTimeout(display_loaded, 100)\n    }\n  }\n\n\n  function run_callbacks() {\n    try {\n      root._bokeh_onload_callbacks.forEach(function(callback) {\n        if (callback != null)\n          callback();\n      });\n    } finally {\n      delete root._bokeh_onload_callbacks\n    }\n    console.debug(\"Bokeh: all callbacks have finished\");\n  }\n\n  function load_libs(css_urls, js_urls, callback) {\n    if (css_urls == null) css_urls = [];\n    if (js_urls == null) js_urls = [];\n\n    root._bokeh_onload_callbacks.push(callback);\n    if (root._bokeh_is_loading > 0) {\n      console.debug(\"Bokeh: BokehJS is being loaded, scheduling callback at\", now());\n      return null;\n    }\n    if (js_urls == null || js_urls.length === 0) {\n      run_callbacks();\n      return null;\n    }\n    console.debug(\"Bokeh: BokehJS not loaded, scheduling load and callback at\", now());\n    root._bokeh_is_loading = css_urls.length + js_urls.length;\n\n    function on_load() {\n      root._bokeh_is_loading--;\n      if (root._bokeh_is_loading === 0) {\n        console.debug(\"Bokeh: all BokehJS libraries/stylesheets loaded\");\n        run_callbacks()\n      }\n    }\n\n    function on_error(url) {\n      console.error(\"failed to load \" + url);\n    }\n\n    for (let i = 0; i < css_urls.length; i++) {\n      const url = css_urls[i];\n      const element = document.createElement(\"link\");\n      element.onload = on_load;\n      element.onerror = on_error.bind(null, url);\n      element.rel = \"stylesheet\";\n      element.type = \"text/css\";\n      element.href = url;\n      console.debug(\"Bokeh: injecting link tag for BokehJS stylesheet: \", url);\n      document.body.appendChild(element);\n    }\n\n    for (let i = 0; i < js_urls.length; i++) {\n      const url = js_urls[i];\n      const element = document.createElement('script');\n      element.onload = on_load;\n      element.onerror = on_error.bind(null, url);\n      element.async = false;\n      element.src = url;\n      console.debug(\"Bokeh: injecting script tag for BokehJS library: \", url);\n      document.head.appendChild(element);\n    }\n  };\n\n  function inject_raw_css(css) {\n    const element = document.createElement(\"style\");\n    element.appendChild(document.createTextNode(css));\n    document.body.appendChild(element);\n  }\n\n  \n  const js_urls = [\"https://cdn.bokeh.org/bokeh/release/bokeh-2.4.1.min.js\", \"https://cdn.bokeh.org/bokeh/release/bokeh-gl-2.4.1.min.js\", \"https://cdn.bokeh.org/bokeh/release/bokeh-widgets-2.4.1.min.js\", \"https://cdn.bokeh.org/bokeh/release/bokeh-tables-2.4.1.min.js\", \"https://cdn.bokeh.org/bokeh/release/bokeh-mathjax-2.4.1.min.js\"];\n  const css_urls = [];\n  \n\n  const inline_js = [\n    function(Bokeh) {\n      Bokeh.set_log_level(\"info\");\n    },\n    function(Bokeh) {\n    \n    \n    }\n  ];\n\n  function run_inline_js() {\n    \n    if (root.Bokeh !== undefined || force === true) {\n      \n    for (let i = 0; i < inline_js.length; i++) {\n      inline_js[i].call(root, root.Bokeh);\n    }\n    if (force === true) {\n        display_loaded();\n      }} else if (Date.now() < root._bokeh_timeout) {\n      setTimeout(run_inline_js, 100);\n    } else if (!root._bokeh_failed_load) {\n      console.log(\"Bokeh: BokehJS failed to load within specified timeout.\");\n      root._bokeh_failed_load = true;\n    } else if (force !== true) {\n      const cell = $(document.getElementById(\"3767\")).parents('.cell').data().cell;\n      cell.output_area.append_execute_result(NB_LOAD_WARNING)\n    }\n\n  }\n\n  if (root._bokeh_is_loading === 0) {\n    console.debug(\"Bokeh: BokehJS loaded, going straight to plotting\");\n    run_inline_js();\n  } else {\n    load_libs(css_urls, js_urls, function() {\n      console.debug(\"Bokeh: BokehJS plotting callback run at\", now());\n      run_inline_js();\n    });\n  }\n}(window));",
      "application/vnd.bokehjs_load.v0+json": ""
     },
     "metadata": {},
     "output_type": "display_data"
    }
   ],
   "source": [
    "# Embedding plots in Jupyter/Colab Notebook\n",
    "pandas_bokeh.output_notebook()"
   ]
  },
  {
   "cell_type": "code",
   "execution_count": 219,
   "metadata": {},
   "outputs": [],
   "source": [
    "# for exporting plots as HTML\n",
    "# pandas_bokeh.output_file(filename='dashboard',title='Birds Dashboard')"
   ]
  },
  {
   "cell_type": "code",
   "execution_count": 220,
   "metadata": {},
   "outputs": [],
   "source": [
    "sheet_id = '1dENiPTJtdqOiU9Oiwxen2UU2K4HP1jOR_MyGcjQP81k'\n",
    "sheet_name = 'registro'\n",
    "url = f'https://docs.google.com/spreadsheets/d/{sheet_id}/gviz/tq?tqx=out:csv&sheet={sheet_name}'"
   ]
  },
  {
   "cell_type": "code",
   "execution_count": 221,
   "metadata": {},
   "outputs": [],
   "source": [
    "df = pd.read_csv(url, usecols=[0,1,2,3,4])\n",
    "#df['Costo($)'] = df['Costo($)'].replace(np.nan, 0)"
   ]
  },
  {
   "cell_type": "code",
   "execution_count": 222,
   "metadata": {},
   "outputs": [
    {
     "data": {
      "text/plain": [
       "Index(['Fecha', 'Hora', 'Descripción', 'Cantidad(g)', 'Costo($)'], dtype='object')"
      ]
     },
     "execution_count": 222,
     "metadata": {},
     "output_type": "execute_result"
    }
   ],
   "source": [
    "df.columns"
   ]
  },
  {
   "cell_type": "code",
   "execution_count": 223,
   "metadata": {},
   "outputs": [
    {
     "data": {
      "text/plain": [
       "(399, 5)"
      ]
     },
     "execution_count": 223,
     "metadata": {},
     "output_type": "execute_result"
    }
   ],
   "source": [
    "df.shape"
   ]
  },
  {
   "cell_type": "code",
   "execution_count": 224,
   "metadata": {},
   "outputs": [
    {
     "name": "stdout",
     "output_type": "stream",
     "text": [
      "<class 'pandas.core.frame.DataFrame'>\n",
      "RangeIndex: 399 entries, 0 to 398\n",
      "Data columns (total 5 columns):\n",
      " #   Column       Non-Null Count  Dtype  \n",
      "---  ------       --------------  -----  \n",
      " 0   Fecha        187 non-null    object \n",
      " 1   Hora         187 non-null    object \n",
      " 2   Descripción  187 non-null    object \n",
      " 3   Cantidad(g)  187 non-null    float64\n",
      " 4   Costo($)     399 non-null    float64\n",
      "dtypes: float64(2), object(3)\n",
      "memory usage: 15.7+ KB\n"
     ]
    }
   ],
   "source": [
    "df.info()"
   ]
  },
  {
   "cell_type": "code",
   "execution_count": 247,
   "metadata": {},
   "outputs": [
    {
     "data": {
      "text/plain": [
       "0      3.0\n",
       "1      3.0\n",
       "2      3.0\n",
       "3      3.0\n",
       "4      3.0\n",
       "      ... \n",
       "394    NaN\n",
       "395    NaN\n",
       "396    NaN\n",
       "397    NaN\n",
       "398    NaN\n",
       "Name: Month, Length: 399, dtype: float64"
      ]
     },
     "execution_count": 247,
     "metadata": {},
     "output_type": "execute_result"
    }
   ],
   "source": [
    "\n",
    "df['Fecha'] = pd.to_datetime(df['Fecha'])\n",
    "df['Hora'] = pd.to_datetime(df['Hora'])\n",
    "df['Month'] = df['Fecha'].dt.month\n",
    "df['Month']"
   ]
  },
  {
   "cell_type": "code",
   "execution_count": 249,
   "metadata": {},
   "outputs": [
    {
     "data": {
      "text/html": [
       "<div>\n",
       "<style scoped>\n",
       "    .dataframe tbody tr th:only-of-type {\n",
       "        vertical-align: middle;\n",
       "    }\n",
       "\n",
       "    .dataframe tbody tr th {\n",
       "        vertical-align: top;\n",
       "    }\n",
       "\n",
       "    .dataframe thead th {\n",
       "        text-align: right;\n",
       "    }\n",
       "</style>\n",
       "<table border=\"1\" class=\"dataframe\">\n",
       "  <thead>\n",
       "    <tr style=\"text-align: right;\">\n",
       "      <th></th>\n",
       "      <th>Fecha</th>\n",
       "      <th>Hora</th>\n",
       "      <th>Descripción</th>\n",
       "      <th>Cantidad(g)</th>\n",
       "      <th>Costo($)</th>\n",
       "      <th>Month</th>\n",
       "    </tr>\n",
       "  </thead>\n",
       "  <tbody>\n",
       "    <tr>\n",
       "      <th>0</th>\n",
       "      <td>2021-03-01</td>\n",
       "      <td>2021-11-12 09:00:00</td>\n",
       "      <td>Papaya</td>\n",
       "      <td>227.0</td>\n",
       "      <td>385.9</td>\n",
       "      <td>3.0</td>\n",
       "    </tr>\n",
       "    <tr>\n",
       "      <th>1</th>\n",
       "      <td>2021-03-01</td>\n",
       "      <td>2021-11-12 09:00:00</td>\n",
       "      <td>Plátano</td>\n",
       "      <td>165.0</td>\n",
       "      <td>379.5</td>\n",
       "      <td>3.0</td>\n",
       "    </tr>\n",
       "    <tr>\n",
       "      <th>2</th>\n",
       "      <td>2021-03-02</td>\n",
       "      <td>2021-11-12 09:30:00</td>\n",
       "      <td>Plátano</td>\n",
       "      <td>164.0</td>\n",
       "      <td>377.2</td>\n",
       "      <td>3.0</td>\n",
       "    </tr>\n",
       "    <tr>\n",
       "      <th>3</th>\n",
       "      <td>2021-03-03</td>\n",
       "      <td>2021-11-12 08:30:00</td>\n",
       "      <td>Banano</td>\n",
       "      <td>148.0</td>\n",
       "      <td>355.2</td>\n",
       "      <td>3.0</td>\n",
       "    </tr>\n",
       "    <tr>\n",
       "      <th>4</th>\n",
       "      <td>2021-03-03</td>\n",
       "      <td>2021-11-12 13:00:00</td>\n",
       "      <td>Banano</td>\n",
       "      <td>124.0</td>\n",
       "      <td>297.6</td>\n",
       "      <td>3.0</td>\n",
       "    </tr>\n",
       "    <tr>\n",
       "      <th>...</th>\n",
       "      <td>...</td>\n",
       "      <td>...</td>\n",
       "      <td>...</td>\n",
       "      <td>...</td>\n",
       "      <td>...</td>\n",
       "      <td>...</td>\n",
       "    </tr>\n",
       "    <tr>\n",
       "      <th>394</th>\n",
       "      <td>NaT</td>\n",
       "      <td>NaT</td>\n",
       "      <td>NaN</td>\n",
       "      <td>NaN</td>\n",
       "      <td>0.0</td>\n",
       "      <td>NaN</td>\n",
       "    </tr>\n",
       "    <tr>\n",
       "      <th>395</th>\n",
       "      <td>NaT</td>\n",
       "      <td>NaT</td>\n",
       "      <td>NaN</td>\n",
       "      <td>NaN</td>\n",
       "      <td>0.0</td>\n",
       "      <td>NaN</td>\n",
       "    </tr>\n",
       "    <tr>\n",
       "      <th>396</th>\n",
       "      <td>NaT</td>\n",
       "      <td>NaT</td>\n",
       "      <td>NaN</td>\n",
       "      <td>NaN</td>\n",
       "      <td>0.0</td>\n",
       "      <td>NaN</td>\n",
       "    </tr>\n",
       "    <tr>\n",
       "      <th>397</th>\n",
       "      <td>NaT</td>\n",
       "      <td>NaT</td>\n",
       "      <td>NaN</td>\n",
       "      <td>NaN</td>\n",
       "      <td>0.0</td>\n",
       "      <td>NaN</td>\n",
       "    </tr>\n",
       "    <tr>\n",
       "      <th>398</th>\n",
       "      <td>NaT</td>\n",
       "      <td>NaT</td>\n",
       "      <td>NaN</td>\n",
       "      <td>NaN</td>\n",
       "      <td>0.0</td>\n",
       "      <td>NaN</td>\n",
       "    </tr>\n",
       "  </tbody>\n",
       "</table>\n",
       "<p>399 rows × 6 columns</p>\n",
       "</div>"
      ],
      "text/plain": [
       "         Fecha                Hora Descripción  Cantidad(g)  Costo($)  Month\n",
       "0   2021-03-01 2021-11-12 09:00:00      Papaya        227.0     385.9    3.0\n",
       "1   2021-03-01 2021-11-12 09:00:00     Plátano        165.0     379.5    3.0\n",
       "2   2021-03-02 2021-11-12 09:30:00     Plátano        164.0     377.2    3.0\n",
       "3   2021-03-03 2021-11-12 08:30:00      Banano        148.0     355.2    3.0\n",
       "4   2021-03-03 2021-11-12 13:00:00      Banano        124.0     297.6    3.0\n",
       "..         ...                 ...         ...          ...       ...    ...\n",
       "394        NaT                 NaT         NaN          NaN       0.0    NaN\n",
       "395        NaT                 NaT         NaN          NaN       0.0    NaN\n",
       "396        NaT                 NaT         NaN          NaN       0.0    NaN\n",
       "397        NaT                 NaT         NaN          NaN       0.0    NaN\n",
       "398        NaT                 NaT         NaN          NaN       0.0    NaN\n",
       "\n",
       "[399 rows x 6 columns]"
      ]
     },
     "execution_count": 249,
     "metadata": {},
     "output_type": "execute_result"
    }
   ],
   "source": [
    "df"
   ]
  },
  {
   "cell_type": "code",
   "execution_count": 317,
   "metadata": {},
   "outputs": [],
   "source": [
    "by_month = df.groupby(['Month']).sum()\n",
    "by_month = by_month.rename(index={1.0:'Jan', 2.0:'Feb', 3.0:'Mar'})"
   ]
  },
  {
   "cell_type": "code",
   "execution_count": 315,
   "metadata": {},
   "outputs": [
    {
     "data": {
      "text/html": [
       "\n",
       "\n",
       "\n",
       "\n",
       "\n",
       "\n",
       "  <div class=\"bk-root\" id=\"ae460976-ad71-440f-99fc-dc4c144e042c\" data-root-id=\"16219\"></div>\n"
      ]
     },
     "metadata": {},
     "output_type": "display_data"
    },
    {
     "data": {
      "application/javascript": "(function(root) {\n  function embed_document(root) {\n    \n  const docs_json = {\"9ab9322a-560f-4a06-83ee-bc9223ec4a46\":{\"defs\":[],\"roots\":{\"references\":[{\"attributes\":{\"below\":[{\"id\":\"16230\"}],\"center\":[{\"id\":\"16233\"},{\"id\":\"16237\"},{\"id\":\"16270\"}],\"height\":400,\"left\":[{\"id\":\"16234\"}],\"output_backend\":\"webgl\",\"renderers\":[{\"id\":\"16259\"},{\"id\":\"16277\"}],\"sizing_mode\":\"fixed\",\"title\":{\"id\":\"16220\"},\"toolbar\":{\"id\":\"16245\"},\"x_range\":{\"id\":\"16222\"},\"x_scale\":{\"id\":\"16226\"},\"y_range\":{\"id\":\"16224\"},\"y_scale\":{\"id\":\"16228\"}},\"id\":\"16219\",\"subtype\":\"Figure\",\"type\":\"Plot\"},{\"attributes\":{},\"id\":\"16264\",\"type\":\"AllLabels\"},{\"attributes\":{},\"id\":\"16288\",\"type\":\"Selection\"},{\"attributes\":{},\"id\":\"16266\",\"type\":\"AllLabels\"},{\"attributes\":{},\"id\":\"16226\",\"type\":\"LinearScale\"},{\"attributes\":{\"axis\":{\"id\":\"16230\"},\"coordinates\":null,\"group\":null,\"ticker\":null},\"id\":\"16233\",\"type\":\"Grid\"},{\"attributes\":{\"fill_alpha\":{\"value\":0.1},\"fill_color\":{\"value\":\"#d01c8b\"},\"hatch_alpha\":{\"value\":0.1},\"hatch_color\":{\"value\":\"#d01c8b\"},\"line_alpha\":{\"value\":0.1},\"line_color\":{\"value\":\"#d01c8b\"},\"size\":{\"value\":5},\"x\":{\"field\":\"__x__values\"},\"y\":{\"field\":\"Cantidad(g)\"}},\"id\":\"16275\",\"type\":\"Scatter\"},{\"attributes\":{},\"id\":\"16224\",\"type\":\"DataRange1d\"},{\"attributes\":{\"data\":{\"Cantidad(g)\":{\"__ndarray__\":\"AAAAAACUsUAAAAAAAPaoQAAAAAAA77lAAAAAAAAwtkAAAAAAAGS+QAAAAAAAu7VAAAAAAABmsUAAAAAAgIjAQAAAAAAALJFA\",\"dtype\":\"float64\",\"order\":\"little\",\"shape\":[9]},\"__x__values\":[0,1,2,3,4,5,6,7,8],\"__x__values_original\":[\"x\",\"y\",5.0,6.0,7.0,8.0,9.0,\"z\",11.0]},\"selected\":{\"id\":\"16288\"},\"selection_policy\":{\"id\":\"16287\"}},\"id\":\"16272\",\"type\":\"ColumnDataSource\"},{\"attributes\":{\"data\":{\"Cantidad(g)\":{\"__ndarray__\":\"AAAAAACUsUAAAAAAAPaoQAAAAAAA77lAAAAAAAAwtkAAAAAAAGS+QAAAAAAAu7VAAAAAAABmsUAAAAAAgIjAQAAAAAAALJFA\",\"dtype\":\"float64\",\"order\":\"little\",\"shape\":[9]},\"__x__values\":[0,1,2,3,4,5,6,7,8],\"__x__values_original\":[\"x\",\"y\",5.0,6.0,7.0,8.0,9.0,\"z\",11.0]},\"selected\":{\"id\":\"16268\"},\"selection_policy\":{\"id\":\"16267\"}},\"id\":\"16254\",\"type\":\"ColumnDataSource\"},{\"attributes\":{},\"id\":\"16239\",\"type\":\"WheelZoomTool\"},{\"attributes\":{\"coordinates\":null,\"data_source\":{\"id\":\"16254\"},\"glyph\":{\"id\":\"16256\"},\"group\":null,\"hover_glyph\":null,\"muted_glyph\":{\"id\":\"16258\"},\"nonselection_glyph\":{\"id\":\"16257\"},\"view\":{\"id\":\"16260\"}},\"id\":\"16259\",\"type\":\"GlyphRenderer\"},{\"attributes\":{\"axis_label\":\"Cantidad(g)\",\"coordinates\":null,\"formatter\":{\"id\":\"16263\"},\"group\":null,\"major_label_policy\":{\"id\":\"16264\"},\"ticker\":{\"id\":\"16235\"}},\"id\":\"16234\",\"type\":\"LinearAxis\"},{\"attributes\":{\"axis\":{\"id\":\"16234\"},\"coordinates\":null,\"dimension\":1,\"group\":null,\"ticker\":null},\"id\":\"16237\",\"type\":\"Grid\"},{\"attributes\":{},\"id\":\"16235\",\"type\":\"BasicTicker\"},{\"attributes\":{\"click_policy\":\"hide\",\"coordinates\":null,\"group\":null,\"items\":[{\"id\":\"16271\"}]},\"id\":\"16270\",\"type\":\"Legend\"},{\"attributes\":{\"line_alpha\":0.1,\"line_color\":\"#d01c8b\",\"line_width\":2,\"x\":{\"field\":\"__x__values\"},\"y\":{\"field\":\"Cantidad(g)\"}},\"id\":\"16257\",\"type\":\"Line\"},{\"attributes\":{},\"id\":\"16267\",\"type\":\"UnionRenderers\"},{\"attributes\":{\"line_color\":\"#d01c8b\",\"line_width\":2,\"x\":{\"field\":\"__x__values\"},\"y\":{\"field\":\"Cantidad(g)\"}},\"id\":\"16256\",\"type\":\"Line\"},{\"attributes\":{},\"id\":\"16243\",\"type\":\"HelpTool\"},{\"attributes\":{\"ticks\":[0,1,2,3,4,5,6,7,8]},\"id\":\"16292\",\"type\":\"FixedTicker\"},{\"attributes\":{},\"id\":\"16238\",\"type\":\"PanTool\"},{\"attributes\":{\"line_alpha\":0.2,\"line_color\":\"#d01c8b\",\"line_width\":2,\"x\":{\"field\":\"__x__values\"},\"y\":{\"field\":\"Cantidad(g)\"}},\"id\":\"16258\",\"type\":\"Line\"},{\"attributes\":{},\"id\":\"16268\",\"type\":\"Selection\"},{\"attributes\":{\"source\":{\"id\":\"16254\"}},\"id\":\"16260\",\"type\":\"CDSView\"},{\"attributes\":{\"overlay\":{\"id\":\"16244\"}},\"id\":\"16240\",\"type\":\"BoxZoomTool\"},{\"attributes\":{},\"id\":\"16242\",\"type\":\"ResetTool\"},{\"attributes\":{\"code\":\"\\n                                var labels = {0: 'x', 1: 'y', 2: '5.0', 3: '6.0', 4: '7.0', 5: '8.0', 6: '9.0', 7: 'z', 8: '11.0'};\\n                                return labels[tick];\\n                                \"},\"id\":\"16252\",\"type\":\"FuncTickFormatter\"},{\"attributes\":{},\"id\":\"16287\",\"type\":\"UnionRenderers\"},{\"attributes\":{\"active_scroll\":{\"id\":\"16239\"},\"tools\":[{\"id\":\"16238\"},{\"id\":\"16239\"},{\"id\":\"16240\"},{\"id\":\"16241\"},{\"id\":\"16242\"},{\"id\":\"16243\"},{\"id\":\"16290\"}]},\"id\":\"16245\",\"type\":\"Toolbar\"},{\"attributes\":{},\"id\":\"16241\",\"type\":\"SaveTool\"},{\"attributes\":{\"label\":{\"value\":\" Cantidad(g)\"},\"renderers\":[{\"id\":\"16259\"},{\"id\":\"16277\"}]},\"id\":\"16271\",\"type\":\"LegendItem\"},{\"attributes\":{\"source\":{\"id\":\"16272\"}},\"id\":\"16278\",\"type\":\"CDSView\"},{\"attributes\":{\"axis_label\":\"Month\",\"coordinates\":null,\"formatter\":{\"id\":\"16252\"},\"group\":null,\"major_label_policy\":{\"id\":\"16266\"},\"ticker\":{\"id\":\"16292\"}},\"id\":\"16230\",\"type\":\"LinearAxis\"},{\"attributes\":{\"fill_color\":{\"value\":\"#d01c8b\"},\"hatch_color\":{\"value\":\"#d01c8b\"},\"line_color\":{\"value\":\"#d01c8b\"},\"size\":{\"value\":5},\"x\":{\"field\":\"__x__values\"},\"y\":{\"field\":\"Cantidad(g)\"}},\"id\":\"16274\",\"type\":\"Scatter\"},{\"attributes\":{\"fill_alpha\":{\"value\":0.2},\"fill_color\":{\"value\":\"#d01c8b\"},\"hatch_alpha\":{\"value\":0.2},\"hatch_color\":{\"value\":\"#d01c8b\"},\"line_alpha\":{\"value\":0.2},\"line_color\":{\"value\":\"#d01c8b\"},\"size\":{\"value\":5},\"x\":{\"field\":\"__x__values\"},\"y\":{\"field\":\"Cantidad(g)\"}},\"id\":\"16276\",\"type\":\"Scatter\"},{\"attributes\":{\"callback\":null,\"mode\":\"vline\",\"renderers\":[{\"id\":\"16259\"}],\"tooltips\":[[\"Month\",\"@__x__values_original\"],[\"Cantidad(g)\",\"@{Cantidad(g)}\"]]},\"id\":\"16290\",\"type\":\"HoverTool\"},{\"attributes\":{\"coordinates\":null,\"group\":null},\"id\":\"16220\",\"type\":\"Title\"},{\"attributes\":{},\"id\":\"16228\",\"type\":\"LinearScale\"},{\"attributes\":{\"coordinates\":null,\"data_source\":{\"id\":\"16272\"},\"glyph\":{\"id\":\"16274\"},\"group\":null,\"hover_glyph\":null,\"muted_glyph\":{\"id\":\"16276\"},\"nonselection_glyph\":{\"id\":\"16275\"},\"view\":{\"id\":\"16278\"}},\"id\":\"16277\",\"type\":\"GlyphRenderer\"},{\"attributes\":{},\"id\":\"16222\",\"type\":\"DataRange1d\"},{\"attributes\":{\"bottom_units\":\"screen\",\"coordinates\":null,\"fill_alpha\":0.5,\"fill_color\":\"lightgrey\",\"group\":null,\"left_units\":\"screen\",\"level\":\"overlay\",\"line_alpha\":1.0,\"line_color\":\"black\",\"line_dash\":[4,4],\"line_width\":2,\"right_units\":\"screen\",\"syncable\":false,\"top_units\":\"screen\"},\"id\":\"16244\",\"type\":\"BoxAnnotation\"},{\"attributes\":{},\"id\":\"16263\",\"type\":\"BasicTickFormatter\"}],\"root_ids\":[\"16219\"]},\"title\":\"Bokeh Application\",\"version\":\"2.4.1\"}};\n  const render_items = [{\"docid\":\"9ab9322a-560f-4a06-83ee-bc9223ec4a46\",\"root_ids\":[\"16219\"],\"roots\":{\"16219\":\"ae460976-ad71-440f-99fc-dc4c144e042c\"}}];\n  root.Bokeh.embed.embed_items_notebook(docs_json, render_items);\n\n  }\n  if (root.Bokeh !== undefined) {\n    embed_document(root);\n  } else {\n    let attempts = 0;\n    const timer = setInterval(function(root) {\n      if (root.Bokeh !== undefined) {\n        clearInterval(timer);\n        embed_document(root);\n      } else {\n        attempts++;\n        if (attempts > 100) {\n          clearInterval(timer);\n          console.log(\"Bokeh: ERROR: Unable to run BokehJS code because BokehJS library is missing\");\n        }\n      }\n    }, 10, root)\n  }\n})(window);",
      "application/vnd.bokehjs_exec.v0+json": ""
     },
     "metadata": {
      "application/vnd.bokehjs_exec.v0+json": {
       "id": "16219"
      }
     },
     "output_type": "display_data"
    }
   ],
   "source": [
    "line_plot= t.plot_bokeh(kind=\"line\",y=\"Cantidad(g)\",color='#d01c8b',plot_data_points=True,show_figure=True)"
   ]
  },
  {
   "cell_type": "code",
   "execution_count": 306,
   "metadata": {},
   "outputs": [
    {
     "data": {
      "text/plain": [
       "'Feb'"
      ]
     },
     "execution_count": 306,
     "metadata": {},
     "output_type": "execute_result"
    }
   ],
   "source": [
    "month_label = {2:'Feb', 4:'Apr', 10:'Oct'}\n",
    "m = month_label[2]\n",
    "m\n"
   ]
  },
  {
   "cell_type": "code",
   "execution_count": 312,
   "metadata": {},
   "outputs": [
    {
     "data": {
      "text/html": [
       "\n",
       "\n",
       "\n",
       "\n",
       "\n",
       "\n",
       "  <div class=\"bk-root\" id=\"3f48606f-23c5-402c-98ee-533871fc6dfd\" data-root-id=\"15279\"></div>\n"
      ]
     },
     "metadata": {},
     "output_type": "display_data"
    },
    {
     "data": {
      "application/javascript": "(function(root) {\n  function embed_document(root) {\n    \n  const docs_json = {\"e43a0579-50f4-4227-8b18-54517c06bef2\":{\"defs\":[],\"roots\":{\"references\":[{\"attributes\":{\"below\":[{\"id\":\"15290\"}],\"center\":[{\"id\":\"15293\"},{\"id\":\"15297\"},{\"id\":\"15329\"}],\"height\":400,\"left\":[{\"id\":\"15294\"}],\"output_backend\":\"webgl\",\"renderers\":[{\"id\":\"15317\"},{\"id\":\"15336\"}],\"sizing_mode\":\"fixed\",\"title\":{\"id\":\"15280\"},\"toolbar\":{\"id\":\"15305\"},\"x_range\":{\"id\":\"15282\"},\"x_scale\":{\"id\":\"15286\"},\"y_range\":{\"id\":\"15284\"},\"y_scale\":{\"id\":\"15288\"}},\"id\":\"15279\",\"subtype\":\"Figure\",\"type\":\"Plot\"},{\"attributes\":{\"axis_label\":\"Month\",\"coordinates\":null,\"formatter\":{\"id\":\"15324\"},\"group\":null,\"major_label_policy\":{\"id\":\"15325\"},\"ticker\":{\"id\":\"15291\"}},\"id\":\"15290\",\"type\":\"LinearAxis\"},{\"attributes\":{},\"id\":\"15321\",\"type\":\"BasicTickFormatter\"},{\"attributes\":{\"click_policy\":\"hide\",\"coordinates\":null,\"group\":null,\"items\":[{\"id\":\"15330\"}]},\"id\":\"15329\",\"type\":\"Legend\"},{\"attributes\":{\"fill_alpha\":{\"value\":0.1},\"fill_color\":{\"value\":\"#d01c8b\"},\"hatch_alpha\":{\"value\":0.1},\"hatch_color\":{\"value\":\"#d01c8b\"},\"line_alpha\":{\"value\":0.1},\"line_color\":{\"value\":\"#d01c8b\"},\"size\":{\"value\":5},\"x\":{\"field\":\"__x__values\"},\"y\":{\"field\":\"Cantidad(g)\"}},\"id\":\"15334\",\"type\":\"Scatter\"},{\"attributes\":{},\"id\":\"15322\",\"type\":\"AllLabels\"},{\"attributes\":{},\"id\":\"15295\",\"type\":\"BasicTicker\"},{\"attributes\":{\"axis\":{\"id\":\"15294\"},\"coordinates\":null,\"dimension\":1,\"group\":null,\"ticker\":null},\"id\":\"15297\",\"type\":\"Grid\"},{\"attributes\":{},\"id\":\"15288\",\"type\":\"LinearScale\"},{\"attributes\":{\"fill_color\":{\"value\":\"#d01c8b\"},\"hatch_color\":{\"value\":\"#d01c8b\"},\"line_color\":{\"value\":\"#d01c8b\"},\"size\":{\"value\":5},\"x\":{\"field\":\"__x__values\"},\"y\":{\"field\":\"Cantidad(g)\"}},\"id\":\"15333\",\"type\":\"Scatter\"},{\"attributes\":{},\"id\":\"15299\",\"type\":\"WheelZoomTool\"},{\"attributes\":{},\"id\":\"15324\",\"type\":\"BasicTickFormatter\"},{\"attributes\":{\"coordinates\":null,\"data_source\":{\"id\":\"15312\"},\"glyph\":{\"id\":\"15314\"},\"group\":null,\"hover_glyph\":null,\"muted_glyph\":{\"id\":\"15316\"},\"nonselection_glyph\":{\"id\":\"15315\"},\"view\":{\"id\":\"15318\"}},\"id\":\"15317\",\"type\":\"GlyphRenderer\"},{\"attributes\":{},\"id\":\"15298\",\"type\":\"PanTool\"},{\"attributes\":{},\"id\":\"15303\",\"type\":\"HelpTool\"},{\"attributes\":{\"callback\":null,\"mode\":\"vline\",\"renderers\":[{\"id\":\"15317\"}],\"tooltips\":[[\"Month\",\"@__x__values_original\"],[\"Cantidad(g)\",\"@{Cantidad(g)}\"]]},\"id\":\"15350\",\"type\":\"HoverTool\"},{\"attributes\":{},\"id\":\"15325\",\"type\":\"AllLabels\"},{\"attributes\":{},\"id\":\"15282\",\"type\":\"DataRange1d\"},{\"attributes\":{\"coordinates\":null,\"data_source\":{\"id\":\"15331\"},\"glyph\":{\"id\":\"15333\"},\"group\":null,\"hover_glyph\":null,\"muted_glyph\":{\"id\":\"15335\"},\"nonselection_glyph\":{\"id\":\"15334\"},\"view\":{\"id\":\"15337\"}},\"id\":\"15336\",\"type\":\"GlyphRenderer\"},{\"attributes\":{\"axis_label\":\"Cantidad(g)\",\"coordinates\":null,\"formatter\":{\"id\":\"15321\"},\"group\":null,\"major_label_policy\":{\"id\":\"15322\"},\"ticker\":{\"id\":\"15295\"}},\"id\":\"15294\",\"type\":\"LinearAxis\"},{\"attributes\":{\"source\":{\"id\":\"15312\"}},\"id\":\"15318\",\"type\":\"CDSView\"},{\"attributes\":{\"line_alpha\":0.1,\"line_color\":\"#d01c8b\",\"line_width\":2,\"x\":{\"field\":\"__x__values\"},\"y\":{\"field\":\"Cantidad(g)\"}},\"id\":\"15315\",\"type\":\"Line\"},{\"attributes\":{\"fill_alpha\":{\"value\":0.2},\"fill_color\":{\"value\":\"#d01c8b\"},\"hatch_alpha\":{\"value\":0.2},\"hatch_color\":{\"value\":\"#d01c8b\"},\"line_alpha\":{\"value\":0.2},\"line_color\":{\"value\":\"#d01c8b\"},\"size\":{\"value\":5},\"x\":{\"field\":\"__x__values\"},\"y\":{\"field\":\"Cantidad(g)\"}},\"id\":\"15335\",\"type\":\"Scatter\"},{\"attributes\":{\"axis\":{\"id\":\"15290\"},\"coordinates\":null,\"group\":null,\"ticker\":null},\"id\":\"15293\",\"type\":\"Grid\"},{\"attributes\":{\"bottom_units\":\"screen\",\"coordinates\":null,\"fill_alpha\":0.5,\"fill_color\":\"lightgrey\",\"group\":null,\"left_units\":\"screen\",\"level\":\"overlay\",\"line_alpha\":1.0,\"line_color\":\"black\",\"line_dash\":[4,4],\"line_width\":2,\"right_units\":\"screen\",\"syncable\":false,\"top_units\":\"screen\"},\"id\":\"15304\",\"type\":\"BoxAnnotation\"},{\"attributes\":{\"source\":{\"id\":\"15331\"}},\"id\":\"15337\",\"type\":\"CDSView\"},{\"attributes\":{\"line_alpha\":0.2,\"line_color\":\"#d01c8b\",\"line_width\":2,\"x\":{\"field\":\"__x__values\"},\"y\":{\"field\":\"Cantidad(g)\"}},\"id\":\"15316\",\"type\":\"Line\"},{\"attributes\":{\"label\":{\"value\":\" Cantidad(g)\"},\"renderers\":[{\"id\":\"15317\"},{\"id\":\"15336\"}]},\"id\":\"15330\",\"type\":\"LegendItem\"},{\"attributes\":{},\"id\":\"15291\",\"type\":\"BasicTicker\"},{\"attributes\":{},\"id\":\"15301\",\"type\":\"SaveTool\"},{\"attributes\":{},\"id\":\"15347\",\"type\":\"UnionRenderers\"},{\"attributes\":{\"active_scroll\":{\"id\":\"15299\"},\"tools\":[{\"id\":\"15298\"},{\"id\":\"15299\"},{\"id\":\"15300\"},{\"id\":\"15301\"},{\"id\":\"15302\"},{\"id\":\"15303\"},{\"id\":\"15350\"}]},\"id\":\"15305\",\"type\":\"Toolbar\"},{\"attributes\":{},\"id\":\"15348\",\"type\":\"Selection\"},{\"attributes\":{\"data\":{\"Cantidad(g)\":{\"__ndarray__\":\"AAAAAACUsUAAAAAAAPaoQAAAAAAA77lAAAAAAAAwtkAAAAAAAGS+QAAAAAAAu7VAAAAAAABmsUAAAAAAgIjAQAAAAAAALJFA\",\"dtype\":\"float64\",\"order\":\"little\",\"shape\":[9]},\"__x__values\":{\"__ndarray__\":\"AAAAAAAACEAAAAAAAAAQQAAAAAAAABRAAAAAAAAAGEAAAAAAAAAcQAAAAAAAACBAAAAAAAAAIkAAAAAAAAAkQAAAAAAAACZA\",\"dtype\":\"float64\",\"order\":\"little\",\"shape\":[9]},\"__x__values_original\":{\"__ndarray__\":\"AAAAAAAACEAAAAAAAAAQQAAAAAAAABRAAAAAAAAAGEAAAAAAAAAcQAAAAAAAACBAAAAAAAAAIkAAAAAAAAAkQAAAAAAAACZA\",\"dtype\":\"float64\",\"order\":\"little\",\"shape\":[9]}},\"selected\":{\"id\":\"15327\"},\"selection_policy\":{\"id\":\"15326\"}},\"id\":\"15312\",\"type\":\"ColumnDataSource\"},{\"attributes\":{},\"id\":\"15326\",\"type\":\"UnionRenderers\"},{\"attributes\":{\"data\":{\"Cantidad(g)\":{\"__ndarray__\":\"AAAAAACUsUAAAAAAAPaoQAAAAAAA77lAAAAAAAAwtkAAAAAAAGS+QAAAAAAAu7VAAAAAAABmsUAAAAAAgIjAQAAAAAAALJFA\",\"dtype\":\"float64\",\"order\":\"little\",\"shape\":[9]},\"__x__values\":{\"__ndarray__\":\"AAAAAAAACEAAAAAAAAAQQAAAAAAAABRAAAAAAAAAGEAAAAAAAAAcQAAAAAAAACBAAAAAAAAAIkAAAAAAAAAkQAAAAAAAACZA\",\"dtype\":\"float64\",\"order\":\"little\",\"shape\":[9]},\"__x__values_original\":{\"__ndarray__\":\"AAAAAAAACEAAAAAAAAAQQAAAAAAAABRAAAAAAAAAGEAAAAAAAAAcQAAAAAAAACBAAAAAAAAAIkAAAAAAAAAkQAAAAAAAACZA\",\"dtype\":\"float64\",\"order\":\"little\",\"shape\":[9]}},\"selected\":{\"id\":\"15348\"},\"selection_policy\":{\"id\":\"15347\"}},\"id\":\"15331\",\"type\":\"ColumnDataSource\"},{\"attributes\":{},\"id\":\"15286\",\"type\":\"LinearScale\"},{\"attributes\":{},\"id\":\"15327\",\"type\":\"Selection\"},{\"attributes\":{\"coordinates\":null,\"group\":null},\"id\":\"15280\",\"type\":\"Title\"},{\"attributes\":{\"overlay\":{\"id\":\"15304\"}},\"id\":\"15300\",\"type\":\"BoxZoomTool\"},{\"attributes\":{},\"id\":\"15302\",\"type\":\"ResetTool\"},{\"attributes\":{\"line_color\":\"#d01c8b\",\"line_width\":2,\"x\":{\"field\":\"__x__values\"},\"y\":{\"field\":\"Cantidad(g)\"}},\"id\":\"15314\",\"type\":\"Line\"},{\"attributes\":{},\"id\":\"15284\",\"type\":\"DataRange1d\"}],\"root_ids\":[\"15279\"]},\"title\":\"Bokeh Application\",\"version\":\"2.4.1\"}};\n  const render_items = [{\"docid\":\"e43a0579-50f4-4227-8b18-54517c06bef2\",\"root_ids\":[\"15279\"],\"roots\":{\"15279\":\"3f48606f-23c5-402c-98ee-533871fc6dfd\"}}];\n  root.Bokeh.embed.embed_items_notebook(docs_json, render_items);\n\n  }\n  if (root.Bokeh !== undefined) {\n    embed_document(root);\n  } else {\n    let attempts = 0;\n    const timer = setInterval(function(root) {\n      if (root.Bokeh !== undefined) {\n        clearInterval(timer);\n        embed_document(root);\n      } else {\n        attempts++;\n        if (attempts > 100) {\n          clearInterval(timer);\n          console.log(\"Bokeh: ERROR: Unable to run BokehJS code because BokehJS library is missing\");\n        }\n      }\n    }, 10, root)\n  }\n})(window);",
      "application/vnd.bokehjs_exec.v0+json": ""
     },
     "metadata": {
      "application/vnd.bokehjs_exec.v0+json": {
       "id": "15279"
      }
     },
     "output_type": "display_data"
    }
   ],
   "source": [
    "\n",
    "# Plot1 - Line plot\n",
    "line_plot= df.groupby(['Month']).sum().plot_bokeh(kind=\"line\",y=\"Cantidad(g)\",color='#d01c8b',plot_data_points=True,show_figure=True)#, xticks = True)\n",
    "#line_plot.\n",
    "# line_plot.xaxis.ticker = [ 1, 5, 10 ]\n",
    "# line_plot.xaxis.major_label_overrides = { 1: 'a', 5: 'b', 10: 'c' }\n",
    "\n",
    "\n",
    "#line_plot.figure(x_range=True)"
   ]
  }
 ],
 "metadata": {
  "interpreter": {
   "hash": "916dbcbb3f70747c44a77c7bcd40155683ae19c65e1c03b4aa3499c5328201f1"
  },
  "kernelspec": {
   "display_name": "Python 3.8.10 64-bit",
   "language": "python",
   "name": "python3"
  },
  "language_info": {
   "codemirror_mode": {
    "name": "ipython",
    "version": 3
   },
   "file_extension": ".py",
   "mimetype": "text/x-python",
   "name": "python",
   "nbconvert_exporter": "python",
   "pygments_lexer": "ipython3",
   "version": "3.8.10"
  },
  "orig_nbformat": 4
 },
 "nbformat": 4,
 "nbformat_minor": 2
}
